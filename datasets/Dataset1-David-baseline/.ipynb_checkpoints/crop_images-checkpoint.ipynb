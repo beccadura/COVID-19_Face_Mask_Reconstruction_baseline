{
 "cells": [
  {
   "cell_type": "code",
   "execution_count": 1,
   "id": "affiliated-amount",
   "metadata": {},
   "outputs": [],
   "source": [
    "import glob\n",
    "import cv2\n",
    "import matplotlib.pyplot as plt\n",
    "\n",
    "jpgFilenamesList = glob.glob('train/image/*.jpg')\n",
    "jpgFilenamesList\n",
    "\n",
    "for i in jpgFilenamesList:\n",
    "    img = cv2.imread(i)\n",
    "    # img.shape\n",
    "    img2 = cv2.resize(img,(512,512))\n",
    "    # img2.shape\n",
    "    # plt.imshow(img2)\n",
    "    cv2.imwrite(i, img2)"
   ]
  }
 ],
 "metadata": {
  "kernelspec": {
   "display_name": "Python 3",
   "language": "python",
   "name": "python3"
  },
  "language_info": {
   "codemirror_mode": {
    "name": "ipython",
    "version": 3
   },
   "file_extension": ".py",
   "mimetype": "text/x-python",
   "name": "python",
   "nbconvert_exporter": "python",
   "pygments_lexer": "ipython3",
   "version": "3.8.5"
  }
 },
 "nbformat": 4,
 "nbformat_minor": 5
}
